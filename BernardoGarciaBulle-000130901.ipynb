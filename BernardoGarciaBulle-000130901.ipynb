{
 "cells": [
  {
   "cell_type": "code",
   "execution_count": 14,
   "metadata": {},
   "outputs": [],
   "source": [
    "import tensorflow as tf \n",
    "import numpy as np\n",
    "import matplotlib.pyplot as plt\n",
    "import matplotlib.image as mpimg\n",
    "import pandas as pd\n",
    "import sklearn.neighbors as nei\n",
    "import sklearn.svm as svm\n",
    "import sklearn.tree as tree\n",
    "import sklearn.ensemble as ensem\n",
    "import random as rm\n",
    "import pydotplus\n",
    "from sklearn.datasets import load_iris\n",
    "from sklearn import tree\n",
    "import collections\n",
    "import seaborn as sns"
   ]
  },
  {
   "cell_type": "code",
   "execution_count": 4,
   "metadata": {},
   "outputs": [],
   "source": [
    "n=50.0\n",
    "rok=[]\n",
    "roktest=[]\n",
    "\n",
    "for i in range(int(n)):\n",
    "    for s in range(int(n)):\n",
    "        j=rm.random()*8-4\n",
    "        k=rm.random()*8-4\n",
    "        rok.append([j,k])\n",
    "\n",
    "X=np.asarray(rok)\n",
    "Y=[]\n",
    "for x in rok:\n",
    "    resp=0\n",
    "    lens=[1, 2, 3, 4]\n",
    "    con2=0\n",
    "    for m in [[2,2], [3,-3], [-2,-2], [-3,2]]:  \n",
    "        con=0\n",
    "        i=0\n",
    "        for s in x:\n",
    "            i=i+(s-m[con])**2\n",
    "            con=con+1\n",
    "        if i<=lens[con2]:\n",
    "            resp=1\n",
    "        con2=con2+1\n",
    "    Y.append([resp])\n",
    "Y=np.asarray(Y)\n",
    "X=np.asarray(X)\n",
    "\n",
    "for i in range(int(n)):\n",
    "    for s in range(int(n)):\n",
    "        j=rm.random()*8-4\n",
    "        k=rm.random()*8-4\n",
    "        roktest.append([j,k])\n",
    "\n",
    "Xtest=np.asarray(roktest)\n",
    "Ytest=[]\n",
    "for x in roktest:\n",
    "    resp=0\n",
    "    lens=[1, 2, 3, 4]\n",
    "    con2=0\n",
    "    for m in [[2,2], [3,-3], [-2,-2], [-3,2]]:  \n",
    "        con=0\n",
    "        i=0\n",
    "        for s in x:\n",
    "            i=i+(s-m[con])**2\n",
    "            con=con+1\n",
    "        if i<=lens[con2]:\n",
    "            resp=1\n",
    "        con2=con2+1\n",
    "    Ytest.append([resp])\n",
    "Ytest=np.asarray(Ytest)\n",
    "Xtest=np.asarray(Xtest)\n",
    "\n",
    "n=100.0\n",
    "rok=[]\n",
    "for i in range(int(n)):\n",
    "    for s in range(int(n)):\n",
    "        j=(i/n)*8-4\n",
    "        k=(s/n)*8-4\n",
    "        rok.append([j,k])\n",
    "\n",
    "Colors=np.asarray(rok)"
   ]
  },
  {
   "cell_type": "code",
   "execution_count": 58,
   "metadata": {
    "scrolled": true
   },
   "outputs": [],
   "source": [
    "accuracies=dict()\n",
    "aux=0\n",
    "for depth in [1, 2, 4, 8, 16, 32, 64]:\n",
    "    dt=tree.DecisionTreeClassifier(max_depth=depth)\n",
    "    accuracies[depth]=dict()\n",
    "    for nt in [1, 2, 4, 8, 16, 32, 64]:\n",
    "        aux=0\n",
    "        aux2=0\n",
    "        rf=ensem.RandomForestClassifier(n_estimators=nt, max_depth=depth)\n",
    "        for seed in [1, 2, 3]:\n",
    "            rf.fit(X, Y.ravel())\n",
    "            dt.fit(X, Y.ravel())\n",
    "            aux=aux+rf.score(Xtest, Ytest)/3\n",
    "            aux2=aux2+dt.score(Xtest, Ytest)/3\n",
    "        accuracies[depth][nt]=dict()\n",
    "        accuracies[depth][nt][0]=aux\n",
    "        accuracies[depth][nt][1]=aux2\n",
    "        \n",
    "\n",
    "\n",
    "        \n",
    "        \n",
    "        "
   ]
  },
  {
   "cell_type": "code",
   "execution_count": 79,
   "metadata": {},
   "outputs": [],
   "source": [
    "i=0\n",
    "j=0\n",
    "dta=[]\n",
    "rfa=[]\n",
    "keys=list(accuracies.keys())\n",
    "keys.sort()\n",
    "accur=pd.DataFrame(accuracies)\n",
    "for k in keys:\n",
    "    dta.append([])\n",
    "    rfa.append([])\n",
    "    dta[i].append(accuracies[k][1][1])\n",
    "    for k2 in keys:\n",
    "        rfa[i].append(accuracies[k][k2][0])\n",
    "    i=i+1"
   ]
  },
  {
   "cell_type": "markdown",
   "metadata": {
    "collapsed": true
   },
   "source": [
    "Below is the heatmap for The decission tree accuracy and further down we can see the accuracy heatmap for the random forest. We can see that increasing the depth of the decision tree increases the accuracy to almost 100%. This increase seems to reach a plateau at 16 depth. On the other hand, for each possible depth I ran a random forest with different number of estimators. We can see that adding the number of estimators was good when we had shors depth. Nonetheless, when the depth increased, the improvement decreases. At this point, a plateau is reached at 16 estimators. "
   ]
  },
  {
   "cell_type": "code",
   "execution_count": 84,
   "metadata": {},
   "outputs": [
    {
     "data": {
      "text/plain": [
       "Text(0.5,15,'')"
      ]
     },
     "execution_count": 84,
     "metadata": {},
     "output_type": "execute_result"
    },
    {
     "data": {
      "image/png": "[encoded data removed]",
      "text/plain": [
       "<matplotlib.figure.Figure at 0x114303198>"
      ]
     },
     "metadata": {},
     "output_type": "display_data"
    }
   ],
   "source": [
    "%matplotlib inline\n",
    "au=sns.heatmap(dta,  yticklabels=keys)\n",
    "au.set_ylabel('Depth')    \n",
    "au.set_xlabel('')"
   ]
  },
  {
   "cell_type": "markdown",
   "metadata": {
    "collapsed": true
   },
   "source": [
    "rfa"
   ]
  },
  {
   "cell_type": "code",
   "execution_count": 85,
   "metadata": {},
   "outputs": [
    {
     "data": {
      "text/plain": [
       "Text(0.5,15,'Number of estimators')"
      ]
     },
     "execution_count": 85,
     "metadata": {},
     "output_type": "execute_result"
    },
    {
     "data": {
      "image/png": "[encoded data removed]",
      "text/plain": [
       "<matplotlib.figure.Figure at 0x1140e2a58>"
      ]
     },
     "metadata": {},
     "output_type": "display_data"
    }
   ],
   "source": [
    "au=sns.heatmap(rfa, xticklabels=keys, yticklabels=keys)\n",
    "au.set_ylabel('Depth of each tree')    \n",
    "au.set_xlabel('Number of estimators')    \n"
   ]
  },
  {
   "cell_type": "code",
   "execution_count": null,
   "metadata": {},
   "outputs": [],
   "source": []
  },
  {
   "cell_type": "code",
   "execution_count": null,
   "metadata": {},
   "outputs": [],
   "source": []
  }
 ],
 "metadata": {
  "kernelspec": {
   "display_name": "Python 3",
   "language": "python",
   "name": "python3"
  },
  "language_info": {
   "codemirror_mode": {
    "name": "ipython",
    "version": 3
   },
   "file_extension": ".py",
   "mimetype": "text/x-python",
   "name": "python",
   "nbconvert_exporter": "python",
   "pygments_lexer": "ipython3",
   "version": "3.5.2"
  }
 },
 "nbformat": 4,
 "nbformat_minor": 1
}
